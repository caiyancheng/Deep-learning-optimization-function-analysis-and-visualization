{
 "cells": [
  {
   "cell_type": "code",
   "execution_count": 41,
   "metadata": {},
   "outputs": [],
   "source": [
    "%matplotlib inline\n",
    "import numpy as np\n",
    "import matplotlib.pyplot as plt\n",
    "from matplotlib import ticker, cm\n",
    "import seaborn as sns\n",
    "from ipywidgets import *\n",
    "import math\n",
    "\n",
    "sin = np.sin\n",
    "cos = np.cos"
   ]
  },
  {
   "cell_type": "code",
   "execution_count": 42,
   "metadata": {},
   "outputs": [],
   "source": [
    "#绘图元素比例  比较小\n",
    "sns.set_context('paper', font_scale=2)\n",
    "#设置显示中文字体\n",
    "font = {'family' : 'SimHei',\n",
    "#         'weight' : 'bold',\n",
    "        'size'   : '15'}\n",
    "plt.rc('font', **font)               # 步骤一（设置字体的更多属性）\n",
    "plt.rc('axes', unicode_minus=False)  # 步骤二（解决坐标轴负数的负号显示问题）"
   ]
  },
  {
   "cell_type": "code",
   "execution_count": 43,
   "metadata": {},
   "outputs": [],
   "source": [
    "#定义那个恐怖的目标函数\n",
    "def f_2d(x,y):\n",
    "    f=10*((1/20)*(x**2)+cos(x)+(sin(3*x))/3+(cos(5*x))/5+(sin(7*x))/7+(1/20)*(y**2)+cos(y)+(sin(3*y))/3+(cos(5*y))/5+(sin(7*y))/7+2)\n",
    "    return f\n",
    "\n",
    "def f_2d_e(x,y):\n",
    "    f = 0.5*x**2+2*y**2+sin(x*y-3.14159265358/2)+1\n",
    "    return f"
   ]
  },
  {
   "cell_type": "code",
   "execution_count": 44,
   "metadata": {},
   "outputs": [],
   "source": [
    "#计算梯度\n",
    "def f_grad(x,y):\n",
    "    dfdx = 10*((1/10)*x-sin(x)+cos(3*x)-sin(5*x)+cos(7*x))\n",
    "    dfdy = 10*((1/10)*y-sin(y)+cos(3*y)-sin(5*y)+cos(7*y))\n",
    "    return dfdx,dfdy\n",
    "\n",
    "def f_grad_e(x,y):\n",
    "    dfdx = x+y*cos(x*y-3.14159265358/2)\n",
    "    dfdy = 4*y+x*cos(x*y-3.14159265358/2)\n",
    "    return dfdx,dfdy\n",
    "    "
   ]
  },
  {
   "cell_type": "code",
   "execution_count": 45,
   "metadata": {},
   "outputs": [],
   "source": [
    "#自定义的训练器\n",
    "def train_2d(trainer,lr=0.001,epoch=50,init_x=-4,init_y=-4):\n",
    "    \"\"\"cyc自定义的训练器\n",
    "        lr: learning rate\n",
    "        epoch：轮次\n",
    "        init_x,init_y:二者的初始值\n",
    "    \"\"\"\n",
    "    x, y = init_x, init_y\n",
    "    s_x, s_y = 0, 0\n",
    "    path = [(x, y)]\n",
    "    for i in range(epoch):\n",
    "        x, y, s_x, s_y, lr = trainer(x, y, s_x, s_y, lr)\n",
    "        path.append((x, y))\n",
    "    return path"
   ]
  },
  {
   "cell_type": "code",
   "execution_count": 46,
   "metadata": {},
   "outputs": [],
   "source": [
    "#不妨可视化下\n",
    "def plot_2d(res, figsize=(10, 8), title=None):\n",
    "    x_, y_ = zip(*res)\n",
    "    fig = plt.figure(figsize=figsize)\n",
    "    plt.plot([-2.93], [-2.93], 'r*', ms=5)\n",
    "    plt.text(-2.93, -2.93, '最小值', color='k')\n",
    "#     plt.plot([0], [0], 'r*', ms=5)\n",
    "#     plt.text(0, 0, '最小值', color='k')\n",
    "    plt.plot(x_[0], y_[0], 'ro', ms=10)\n",
    "    plt.text(x_[0]+0.2, y_[0]-0.15, '起点', color='k')\n",
    "    plt.plot(x_, y_, '-o', color='r')\n",
    "    \n",
    "    plt.plot(x_[-1], y_[-1], 'bo',ms=10)\n",
    "    plt.text(x_[-1]+0.1, y_[-1]-0.4, '终点', color='k')\n",
    "    \n",
    "    x = np.linspace(-10,10, 100)\n",
    "    y = np.linspace(-10,10, 100)\n",
    "#     x = np.linspace(-5,5, 100)\n",
    "#     y = np.linspace(-5,5, 100)\n",
    "    x, y = np.meshgrid(x, y)\n",
    "    #画出等高线区域，并用彩虹颜色填充，设置透明度\n",
    "    cp=plt.contourf(x, y, f_2d(x, y),alpha=0.75, cmap=cm.rainbow)\n",
    "    #画出等高线\n",
    "    C=plt.contour(x, y, f_2d(x, y),colors='black')\n",
    "    plt.clabel(C,inline=True,fontsize=15)\n",
    "    cbar = fig.colorbar(cp)\n",
    "    cbar.set_label('loss')\n",
    "    plt.xlabel('x')\n",
    "    plt.ylabel('y')\n",
    "    plt.title(title)\n",
    "    plt.show()\n",
    "    x,y=res[-1]\n",
    "    loss=f_2d(x,y)\n",
    "    print('Minimum loss:',loss,'x:',x,' y:',y)"
   ]
  },
  {
   "cell_type": "code",
   "execution_count": 47,
   "metadata": {},
   "outputs": [
    {
     "data": {
      "application/vnd.jupyter.widget-view+json": {
       "model_id": "405b1de6b5e54b058057bba9d255677f",
       "version_major": 2,
       "version_minor": 0
      },
      "text/plain": [
       "interactive(children=(FloatSlider(value=0.1, description='lr', max=1.0, step=0.001), IntSlider(value=100, desc…"
      ]
     },
     "metadata": {},
     "output_type": "display_data"
    }
   ],
   "source": [
    "#最原始的梯度下降法\n",
    "def sgd(x, y, s1, s2, lr):\n",
    "    dfdx, dfdy = f_grad(x, y)\n",
    "    return (x - lr * dfdx, y - lr * dfdy, 0, 0, lr)\n",
    "\n",
    "#定义了4个变量控件，可以随时调节，查看效果 (最小值，最大值，步长)\n",
    "@interact(lr=(0, 1, 0.001),epoch=(0,100,1),init_x1=(-10,10,0.1),init_x2=(-10,10,0.1),continuous_update=False)\n",
    "def visualize_gradient_descent(lr=0.10,epoch=100,init_x1=6,init_x2=-4):\n",
    "    res = train_2d(sgd, lr,epoch,init_x1,init_x2)\n",
    "    plot_2d(res,(12,8), title='SGD')"
   ]
  },
  {
   "cell_type": "code",
   "execution_count": 54,
   "metadata": {},
   "outputs": [
    {
     "data": {
      "application/vnd.jupyter.widget-view+json": {
       "model_id": "8ee847632b3f44a88747ab455fe8e6aa",
       "version_major": 2,
       "version_minor": 0
      },
      "text/plain": [
       "interactive(children=(FloatSlider(value=0.3, description='lr', max=1.0, step=0.001), FloatSlider(value=0.1, de…"
      ]
     },
     "metadata": {},
     "output_type": "display_data"
    }
   ],
   "source": [
    "@interact(lr=(0, 1, 0.001), gamma=(0, 0.99, 0.01),\n",
    "          continuous_update=False,epoch=(0,100,1),init_x1=(-10,10,0.1),init_x2=(-10,10,0.1))\n",
    "def visualize_sgd_momentum(lr=0.3, gamma=0.1,epoch=100,init_x1=6,init_x2=-4):\n",
    "    '''lr: learning rate\n",
    "    gamma: parameter for inertia sgd'''\n",
    "    \n",
    "    def momentum(x1, x2, v1, v2, lr):\n",
    "        dfdx1, dfdx2 = f_grad(x1, x2)\n",
    "        v1 = gamma * v1 + lr * dfdx1\n",
    "        v2 = gamma * v2 + lr * dfdx2\n",
    "        x1 = x1 - v1\n",
    "        x2 = x2 - v2\n",
    "        return (x1, x2, v1, v2, lr)\n",
    "    \n",
    "    res = train_2d(momentum, lr,epoch,init_x1,init_x2)\n",
    "    plot_2d(res, title='Momentum')"
   ]
  },
  {
   "cell_type": "code",
   "execution_count": 61,
   "metadata": {},
   "outputs": [
    {
     "data": {
      "application/vnd.jupyter.widget-view+json": {
       "model_id": "e2195ea19d47419281e947c72225c3ee",
       "version_major": 2,
       "version_minor": 0
      },
      "text/plain": [
       "interactive(children=(FloatSlider(value=0.3, description='lr', max=1.0, step=0.01), IntSlider(value=100, descr…"
      ]
     },
     "metadata": {},
     "output_type": "display_data"
    }
   ],
   "source": [
    "@interact(lr=(0, 1, 0.01),\n",
    "          continuous_update=False,epoch=(0,100,1),init_x1=(-10,10,0.1),init_x2=(-10,10,0.1))\n",
    "def visualize_adagrad(lr=0.3,epoch=100,init_x1=6,init_x2=-4):\n",
    "    '''lr: learning rate'''\n",
    "    def adagrad_2d(x1, x2, s1, s2, lr):\n",
    "        g1, g2 = f_grad(x1, x2)\n",
    "        eps = 1e-6\n",
    "        s1 += g1 ** 2\n",
    "        s2 += g2 ** 2\n",
    "        x1 -= lr / math.sqrt(s1 + eps) * g1\n",
    "        x2 -= lr / math.sqrt(s2 + eps) * g2\n",
    "        return x1, x2, s1, s2, lr\n",
    "    \n",
    "    res = train_2d(adagrad_2d, lr,epoch,init_x1,init_x2)\n",
    "    plot_2d(res, title='AdaGrad')"
   ]
  },
  {
   "cell_type": "code",
   "execution_count": 65,
   "metadata": {
    "scrolled": false
   },
   "outputs": [
    {
     "data": {
      "application/vnd.jupyter.widget-view+json": {
       "model_id": "f779d96447984656a93238a3fa9a000a",
       "version_major": 2,
       "version_minor": 0
      },
      "text/plain": [
       "interactive(children=(FloatSlider(value=0.3, description='lr', max=1.0, step=0.001), FloatSlider(value=0.9, de…"
      ]
     },
     "metadata": {},
     "output_type": "display_data"
    }
   ],
   "source": [
    "@interact(lr=(0, 1, 0.001), \n",
    "          gamma=(0, 0.99, 0.001),\n",
    "          continuous_update=False,epoch=(0,100,1),init_x1=(-10,10,0.1),init_x2=(-10,10,0.1))\n",
    "def visualize_rmsprop(lr=0.3, gamma=0.9,epoch=100,init_x1=6,init_x2=-4):\n",
    "    '''lr: learning rate, \n",
    "       gamma: momentum'''  \n",
    "    def rmsprop_2d(x1, x2, s1, s2, lr):\n",
    "        eps = 1e-6\n",
    "        g1, g2 = f_grad(x1, x2)\n",
    "        s1 = gamma * s1 + (1 - gamma) * g1 ** 2\n",
    "        s2 = gamma * s2 + (1 - gamma) * g2 ** 2\n",
    "        x1 -= lr / math.sqrt(s1 + eps) * g1\n",
    "        x2 -= lr / math.sqrt(s2 + eps) * g2\n",
    "        return x1, x2, s1, s2, lr\n",
    "\n",
    "    res = train_2d(rmsprop_2d, lr,epoch,init_x1,init_x2)\n",
    "    plot_2d(res, title='RMSProp')"
   ]
  },
  {
   "cell_type": "code",
   "execution_count": 70,
   "metadata": {},
   "outputs": [
    {
     "data": {
      "application/vnd.jupyter.widget-view+json": {
       "model_id": "dc36f68064764d24a69a16e25a2af0b6",
       "version_major": 2,
       "version_minor": 0
      },
      "text/plain": [
       "interactive(children=(FloatSlider(value=0.3, description='lr', max=1.0, step=0.01), FloatSlider(value=0.9, des…"
      ]
     },
     "metadata": {},
     "output_type": "display_data"
    }
   ],
   "source": [
    "@interact(lr=(0, 1, 0.01), \n",
    "          beta1=(0, 0.999, 0.001),\n",
    "          beta2=(0, 0.999, 0.001),\n",
    "          continuous_update=False,epoch=(0,100,1),init_x1=(-10,10,0.1),init_x2=(-10,10,0.1))\n",
    "def visualize_adam(lr=0.3, beta1=0.9, beta2=0.999,epoch=100,init_x1=-10,init_x2=-4):\n",
    "    '''lr: learning rate\n",
    "    beta1: parameter for E(g)\n",
    "    beta2: parameter for E(g^2)\n",
    "    '''  \n",
    "    def Deltax(m, n, g, t):\n",
    "        eps = 1.0E-6\n",
    "        m = beta1 * m + (1 - beta1) * g\n",
    "        n = beta2 * n + (1 - beta2) * g*g\n",
    "        m_hat = m / (1 - beta1**t)\n",
    "        n_hat = n / (1 - beta2**t)\n",
    "        dx = lr * m_hat / (math.sqrt(n_hat) + eps)\n",
    "        return m, n, dx\n",
    "        \n",
    "    def adam_2d(x1, x2, m1, n1, m2, n2, lr, t):\n",
    "        '''m1, m2: E(g1), E(g2)\n",
    "           n1, n2: E(g1^2), E(g2^2) where E() is expectation\n",
    "           lr: learning rate\n",
    "           t: time step'''\n",
    "        eps = 1e-6\n",
    "        g1, g2 = f_grad(x1, x2)\n",
    "        m1, n1, dx1 = Deltax(m1, n1, g1, t)\n",
    "        m2, n2, dx2 = Deltax(m2, n2, g2, t)       \n",
    "        x1 -= dx1\n",
    "        x2 -= dx2\n",
    "        return x1, x2, m1, n1, m2, n2, lr\n",
    "    \n",
    "    def train_adam(trainer, lr,epoch=100,init_x1=-8,init_x2=-10):\n",
    "        \"\"\"Train a 2d object function with a customized trainer\"\"\"\n",
    "        x1, x2 = init_x1,init_x2\n",
    "        m1, n1, m2, n2 = 0, 0, 0, 0\n",
    "        res = [(x1, x2)]\n",
    "        for i in range(epoch):\n",
    "            x1, x2, m1, n1, m2, n2, lr = trainer(x1, x2, m1, n1, m2, n2, lr, i+1)\n",
    "            res.append((x1, x2))\n",
    "        return res\n",
    "    \n",
    "    res = train_adam(adam_2d, lr,epoch,init_x1,init_x2)\n",
    "    plot_2d(res, title='Adam')"
   ]
  },
  {
   "cell_type": "code",
   "execution_count": null,
   "metadata": {},
   "outputs": [],
   "source": []
  },
  {
   "cell_type": "code",
   "execution_count": null,
   "metadata": {},
   "outputs": [],
   "source": []
  }
 ],
 "metadata": {
  "kernelspec": {
   "display_name": "Python 3",
   "language": "python",
   "name": "python3"
  },
  "language_info": {
   "codemirror_mode": {
    "name": "ipython",
    "version": 3
   },
   "file_extension": ".py",
   "mimetype": "text/x-python",
   "name": "python",
   "nbconvert_exporter": "python",
   "pygments_lexer": "ipython3",
   "version": "3.8.5"
  }
 },
 "nbformat": 4,
 "nbformat_minor": 5
}
